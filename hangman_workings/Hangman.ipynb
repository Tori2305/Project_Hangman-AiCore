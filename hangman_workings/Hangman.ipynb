{
 "cells": [
  {
   "cell_type": "markdown",
   "metadata": {},
   "source": [
    "# AiCore Project 2 - Hangman Game\n"
   ]
  },
  {
   "cell_type": "markdown",
   "metadata": {},
   "source": [
    "#### Milestone 1 - 3: Create Variables for the game & check guessed character in word"
   ]
  },
  {
   "cell_type": "markdown",
   "metadata": {},
   "source": [
    "Milestone 1: Set up the environment\n",
    "- Set up GitHub repo with README.md file\n",
    "\n",
    "Milestone 2: Create the variables for the game\n",
    "- Code can be found on *milestone_2.py*\n",
    "- Defined lists of possible words\n",
    "- Utilised python built in 'random' module for the computer to choose a random word\n",
    "- Used input() function to get user input and checking that it is a single alphabetical letter\n",
    "- Creation of if-else statement to print \"Good guess\" or \"Oops! That is not a valid input\" if preceeding conditions were not met.\n",
    "- Refactored and optimised the current code. \n",
    "\n",
    "Milestone 3: Checked if guessed letter was in the computerised random guess\n",
    "- Code can be found in *milestone_3.py*\n",
    "- Created a while loop to check users guess is a single alphabetical letter (ask_for_input())\n",
    "- Created another loop to check if that letter is in the random word, with multiple responses depending if is or not (check_guess())\n",
    "- Refactored and optimised the current code."
   ]
  },
  {
   "cell_type": "markdown",
   "metadata": {},
   "source": [
    "#### Milestone 4: Create the game class"
   ]
  },
  {
   "cell_type": "markdown",
   "metadata": {},
   "source": [
    "Used Object Orientated Programming (OOP) paradigm to develop and complete Hangman game\n",
    "- Code can be found in *milestone_4.py*\n",
    "- Created a class called **Hangman** , initiated and initialised with the following attributes:\n",
    "    1. word: The word to be guessed, picked randomly from the word_list. Remember to import the random module into your script\n",
    "    2. word_guessed: list - A list of the letters of the word, with _ for each letter not yet guessed. \n",
    "            \n",
    "        - For example, if the word is 'apple', the word_guessed list would be ['_', '_', '_', '_', '_']. If the player guesses 'a', the list would be ['a', '_', '_', '_', '_']\n",
    "    \n",
    "    3. num_letters: int - The number of UNIQUE letters in the word that have not been guessed yet\n",
    "    4. num_lives: int - The number of lives the player has at the start of the game.\n",
    "    5. word_list: list - A list of words\n",
    "    6. list_of_guesses: list - A list of the guesses that have already been tried. Set this to an empty list initially"
   ]
  },
  {
   "cell_type": "code",
   "execution_count": null,
   "metadata": {},
   "outputs": [],
   "source": [
    "import random\n",
    "fruit_list = [\"apple\", \"banana\", \"orange\", \"grape\", \"watermelon\"]"
   ]
  },
  {
   "cell_type": "code",
   "execution_count": 15,
   "metadata": {},
   "outputs": [],
   "source": [
    "class Hangman:\n",
    "  def __init__ (self, word_list,num_lives):\n",
    "    self.word_list = fruit_list\n",
    "    self.num_lives=5\n",
    "    self.word= random.choice(self.word_list)\n",
    "    self.word_guessed=[\" _ \" * len(self.word)]\n",
    "    self.num_letters=set(self.word)\n",
    "    self.list_of_guesses=[]"
   ]
  },
  {
   "cell_type": "markdown",
   "metadata": {},
   "source": [
    "- Created methods for running the checks: \n",
    "    1. One method to ask user for input\n",
    "    2. Another to check is in the word\n",
    "\n",
    "1. ask_for_input method - In the body of this method I:\n",
    "- Created a while loop with the condition set to True.\n",
    "- Prompted the user for input.\n",
    "- Implemented an if statement to validate the input:\n",
    "    - Checked if the guess is not a single alphabetical letter using != and or not.\n",
    "    - Used elif to handle cases where the guess is already in the list of guesses.\n",
    "    - Used else to add valid guesses to the list using .append().\n",
    "- Integrated the check_guess method to validate whether the newly added guesses are present in the randomly selected word.\n",
    "\n",
    "2. check_guess method - In the body of this method I: \n",
    "- Converted each guess to lowercase for consistency.\n",
    "- Checked if the guess was in the word; \n",
    "    - Responded with \"Good guess! {guess} is in the word\"\" if correct.\n",
    "    - Responded with \"Sorry, {guess} is not in the word\" if the guess was incorrect.\n",
    "- For correct guesses:\n",
    "    - Used a for-loop to replace corresponding underscores (\"_\") in word_guessed with the correct letter.\n",
    "    - Indexed word_guessed at the positions of the guessed letter and assigned it appropriately.\n",
    "    - Decremented num_letters by 1 when underscores were replaced.\n",
    "- For incorrect guesses:\n",
    "    - Decremented num_lives by 1\n",
    "    - Responded with \"\"Sorry, {letter} is not in the word.\"\n",
    "    - Printed another message \"You have {num_lives} lives left.\"\n"
   ]
  },
  {
   "cell_type": "code",
   "execution_count": null,
   "metadata": {},
   "outputs": [],
   "source": [
    "  def check_guess(self,guess):\n",
    "    guess=guess.lower()\n",
    "    if guess in self.word:\n",
    "      print(f\"Good guess! {guess} is in the word\")\n",
    "      for guess in self.word:\n",
    "        if guess in word_guessed:\n",
    "          index = [i for i, l in enumerate(self.word)if l == guess]\n",
    "          for i in index:\n",
    "            word_guessed = word_guessed[:i] + guess + word_guessed[i+1:]\n",
    "      num_letters-=1\n",
    "    else:\n",
    "      num_lives -=1\n",
    "      print(f\"Sorry, {guess} is not in the word\")\n",
    "      print(f\"You have {num_lives} lives left\")"
   ]
  },
  {
   "cell_type": "code",
   "execution_count": null,
   "metadata": {},
   "outputs": [],
   "source": [
    "  def ask_for_input(self):\n",
    "    while True:\n",
    "      guess=str(input(\"Please guess a single alphabetical letter: \"))\n",
    "      if guess != 1 or not guess.isalpha():\n",
    "        print(\"Invalid letter. Please, enter a single alphabetical character: \")\n",
    "      elif guess in list_of_guesses:\n",
    "        print(\"You've already tried that letter!\")\n",
    "      else:\n",
    "        list_of_guesses=list_of_guesses.append(guess)\n",
    "        self.check_guess(guess)"
   ]
  },
  {
   "cell_type": "code",
   "execution_count": null,
   "metadata": {},
   "outputs": [],
   "source": []
  }
 ],
 "metadata": {
  "kernelspec": {
   "display_name": "base",
   "language": "python",
   "name": "python3"
  },
  "language_info": {
   "codemirror_mode": {
    "name": "ipython",
    "version": 3
   },
   "file_extension": ".py",
   "mimetype": "text/x-python",
   "name": "python",
   "nbconvert_exporter": "python",
   "pygments_lexer": "ipython3",
   "version": "3.12.3"
  }
 },
 "nbformat": 4,
 "nbformat_minor": 2
}
